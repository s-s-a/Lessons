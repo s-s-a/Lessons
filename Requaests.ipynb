{
 "cells": [
  {
   "cell_type": "markdown",
   "id": "2809421d",
   "metadata": {},
   "source": [
    "* Библиотека requests"
   ]
  },
  {
   "cell_type": "markdown",
   "id": "520285b1",
   "metadata": {},
   "source": [
    "В современном веб-программировании взаимодействие между клиентом и сервером на основе протокола HTTP является одной из ключевых задач. Для разработчиков на языке Python библиотека requests стала стандартом де-факто для выполнения HTTP-запросов благодаря своей простоте и удобству. В этой статье мы рассмотрим, что такое библиотека requests, а также охватим основы работы с HTTP/S.\n",
    "\n",
    "Что такое библиотека requests?\n",
    "\n",
    "requests — это мощная и популярная библиотека для языка Python, разработанная для удобного выполнения HTTP-запросов. Она позволяет вам взаимодействовать с веб-ресурсами, отправлять запросы и обрабатывать ответы, используя простые и лаконичные методы. Библиотека была создана, чтобы сделать процесс работы с HTTP более интуитивно понятным, чем традиционные методы, такие как стандартный модуль urllib.\n",
    "\n",
    "Некоторые ключевые особенности библиотеки requests включают:\n",
    "\n",
    "Легкость в использовании: библиотека имеет простой и понятный интерфейс.\n",
    "Поддержка HTTP-методов: GET, POST, PUT, DELETE, и многие другие.\n",
    "Работа с JSON: простое преобразование данных между Python-объектами и JSON.\n",
    "Обработка сессий: поддержка управления сессиями и куки через объект Session.\n",
    "Управление заголовками и параметрами запроса: возможность легко добавлять параметры и заголовки к запросам.\n",
    "Работа с сертификатами: поддержка HTTPS и безопасных соединений.Основы работы с HTTP\n"
   ]
  },
  {
   "cell_type": "markdown",
   "id": "4eca7fdd",
   "metadata": {},
   "source": [
    "Что такое HTTP?\n",
    "HTTP (HyperText Transfer Protocol) — это протокол, который используется при обмене данными в интернете. Он основан на модели клиент-сервер, где клиент (обычно веб-браузер) отправляет запросы к серверу, а сервер отвечает на эти запросы. ПротоколHTTP имеет множество методов, среди которых наибольшее распространение получили:\n",
    "\n",
    "GET: используется для получения данных с сервера. Например, запрос на получение веб-страницы.\n",
    "POST: применяется для отправки данных на сервер, например, при отправке формы на веб-сайте.\n",
    "PUT: предназначен для обновления существующих ресурсов на сервере.\n",
    "DELETE: используется для удаления ресурсов с сервера.\n",
    "Когда клиент выполняет HTTP-запрос, он отправляет запрос, который может содержать заголовки, параметры и тело (особенно для методов POST и PUT). Сервер обрабатывает запрос и отправляет обратно ответ, который включает статусный код, заголовки и, возможно, тело ответа (например, HTML-код страницы или данные в формате JSON).\n",
    "\n",
    "Выполнение запросов с библиотекой requests\n",
    "Теперь давайте рассмотрим, как использовать библиотеку requests для выполнения различных типов запросов.\n",
    "\n",
    "Установка библиотеки\n",
    "Чтобы установить библиотеку requests, вы можете использовать pip:"
   ]
  },
  {
   "cell_type": "code",
   "execution_count": null,
   "id": "623dbb77",
   "metadata": {},
   "outputs": [],
   "source": [
    "pip install requests"
   ]
  },
  {
   "cell_type": "markdown",
   "id": "c0d6feb2",
   "metadata": {},
   "source": [
    "Простой GET-запрос\n",
    "Выполнение GET-запроса очень просто. Например, чтобы получить данные с определенного URL, вы можете сделать следующее:"
   ]
  },
  {
   "cell_type": "code",
   "execution_count": null,
   "id": "554614dc",
   "metadata": {},
   "outputs": [],
   "source": [
    "import requests\n",
    "\n",
    "response = requests.get('https://yandex.ru')\n",
    "print(f'Status code: {response.status_code}') # Выводит статусный код ответа\n",
    "print()\n",
    "print(f'Text: {response.text}') # Выводит текст ответа"
   ]
  },
  {
   "cell_type": "markdown",
   "id": "6d90347d",
   "metadata": {},
   "source": [
    "POST-запрос"
   ]
  },
  {
   "cell_type": "code",
   "execution_count": null,
   "id": "cab44631",
   "metadata": {},
   "outputs": [],
   "source": [
    "import requests\n",
    "\n",
    "data = {'key' : 'value'}\n",
    "response = requests.post('https://api.example.com/submit', json=data)\n",
    "print(response.status_code)\n",
    "print(response.json()) # Если ответ в формате JSON"
   ]
  },
  {
   "cell_type": "markdown",
   "id": "8ef81aaf",
   "metadata": {},
   "source": [
    "Обработка ошибок\n",
    "При работе с HTTP-запросами важно обрабатывать возможные ошибки. Библиотека requests предоставляет удобные методы для этого:"
   ]
  },
  {
   "cell_type": "code",
   "execution_count": null,
   "id": "7e141bcc",
   "metadata": {},
   "outputs": [],
   "source": [
    "import requests\n",
    "\n",
    "try:\n",
    "  response = requests.get ('https://api. example.com/data' )\n",
    "  response.raise_for_status() # Вызывает исключение для ошибок НТТР\n",
    "except requests. exceptions. HTTPError as err:\n",
    "  print (f\"HTTP error occurred: {err}\") # 06pa60TKa own60K\n",
    "except Exception as err:\n",
    "  print (f\"An error occurred: {err}\")"
   ]
  },
  {
   "cell_type": "markdown",
   "id": "aecf2d38",
   "metadata": {},
   "source": [
    "1. Отправка GET-запросов"
   ]
  },
  {
   "cell_type": "markdown",
   "id": "2565668b",
   "metadata": {},
   "source": [
    "GET — это основной HTTP-метод, который используется для запроса данных с сервера. Обычно запросы GET используются для получения информации без изменения состояния ресурса на сервере.\n",
    "\n",
    "Для отправки GET-запроса в библиотеке requests достаточно вызвать функцию requests.get(). Например:"
   ]
  },
  {
   "cell_type": "code",
   "execution_count": null,
   "id": "0d1b4a07",
   "metadata": {},
   "outputs": [],
   "source": [
    "import os\n",
    "import requests\n",
    "\n",
    "response = requests.get ('https: //jsonplaceholder.typicode.com/posts' )\n",
    "print(response.status_code) # Выводим код состояния ответа\n",
    "print(response.text)   # Выводим текст ответа\n",
    "print(response.json()) # Выводим ответ в формате JSON"
   ]
  },
  {
   "cell_type": "markdown",
   "id": "df985f46",
   "metadata": {},
   "source": [
    "Параметры запроса:"
   ]
  },
  {
   "cell_type": "code",
   "execution_count": null,
   "id": "6e5f3f95",
   "metadata": {},
   "outputs": [],
   "source": [
    "import requests\n",
    "\n",
    "params = {'userId': 1}\n",
    "response = requests.get('https://jsonplaceholder.typicode.com/posts', params=params)\n",
    "print(response.json())"
   ]
  },
  {
   "cell_type": "markdown",
   "id": "a5a8e834",
   "metadata": {},
   "source": [
    "2. Отправка POST-запросов"
   ]
  },
  {
   "cell_type": "markdown",
   "id": "a98fb77e",
   "metadata": {},
   "source": [
    "POST-запросы часто используются для отправки данных на сервер, например, для создания новых записей в базе данных. В библиотеке requests для отправки POST-запроса используется метод requests.post()."
   ]
  },
  {
   "cell_type": "markdown",
   "id": "7516f2b8",
   "metadata": {},
   "source": [
    "Пример отправки POST-запроса:"
   ]
  },
  {
   "cell_type": "code",
   "execution_count": null,
   "id": "4ba2e51e",
   "metadata": {},
   "outputs": [],
   "source": [
    "data = {\n",
    "  'title': 'foo',\n",
    "  'body': 'bar',\n",
    "  'userId': 1\n",
    "}\n",
    "\n",
    "response = requests.post('https://jsonplaceholder.typicode.com/posts', data=data)\n",
    "\n",
    "# Выводим код состояния ответа\n",
    "print(response.status_code)\n",
    "\n",
    "# Выводим данные, отправленные сервером в ответ\n",
    "print(response.json())"
   ]
  },
  {
   "cell_type": "markdown",
   "id": "3df1102d",
   "metadata": {},
   "source": [
    "Параметры запроса:"
   ]
  },
  {
   "cell_type": "markdown",
   "id": "6f36016d",
   "metadata": {},
   "source": [
    "Для отправки данных, например, в формате JSON, можно использовать параметр json:"
   ]
  },
  {
   "cell_type": "code",
   "execution_count": null,
   "id": "a8d04130",
   "metadata": {},
   "outputs": [],
   "source": [
    "import requests\n",
    "\n",
    "data = {\n",
    "  'title': 'foo',\n",
    "  'body' : 'bar',\n",
    "  'userId': 1\n",
    "}\n",
    "\n",
    "response = requests.post('https://jsonplaceholder.typicode.com/posts', json=data)\n",
    "\n",
    "print(response.json())"
   ]
  },
  {
   "cell_type": "markdown",
   "id": "e903f929",
   "metadata": {},
   "source": [
    "3. Другие HTTP-методы: PUT, PATCH, DELETE"
   ]
  },
  {
   "cell_type": "markdown",
   "id": "399b5cd6",
   "metadata": {},
   "source": [
    "В библиотеке requests также поддерживаются другие HTTP-методы, такие как PUT, PATCH и DELETE."
   ]
  },
  {
   "cell_type": "markdown",
   "id": "00ecd837",
   "metadata": {},
   "source": [
    "PUT-запросы"
   ]
  },
  {
   "cell_type": "markdown",
   "id": "d801ec0a",
   "metadata": {},
   "source": [
    "PUT используется для обновления существующего ресурса на сервере. Он заменяет весь ресурс новыми данными."
   ]
  },
  {
   "cell_type": "markdown",
   "id": "7aa03fd1",
   "metadata": {},
   "source": [
    "Пример отправки PUT-запроса:"
   ]
  },
  {
   "cell_type": "code",
   "execution_count": null,
   "id": "801d7aed",
   "metadata": {},
   "outputs": [],
   "source": [
    "import requests\n",
    "\n",
    "data = {\n",
    "  'id': 1,\n",
    "  'title': 'Updated Title',\n",
    "  'body': 'Updated Body' ,\n",
    "  'userId': 1\n",
    "}\n",
    "\n",
    "response = requests.put('https://jsonplaceholder.typicode.com/posts/1', json=data)\n",
    "\n",
    "print(response.status_code)\n",
    "print(response.json())"
   ]
  },
  {
   "cell_type": "markdown",
   "id": "44896f06",
   "metadata": {},
   "source": [
    "PATCH-запросы"
   ]
  },
  {
   "cell_type": "markdown",
   "id": "bf1e5d07",
   "metadata": {},
   "source": [
    "PATCH — это метод, который используется для частичного обновления ресурса. В отличие от PUT, который заменяет весь ресурс, PATCH позволяет обновить только некоторые поля."
   ]
  },
  {
   "cell_type": "markdown",
   "id": "544136d1",
   "metadata": {},
   "source": [
    "Пример отправки PATCH-запроса:"
   ]
  },
  {
   "cell_type": "code",
   "execution_count": null,
   "id": "88eb768f",
   "metadata": {},
   "outputs": [],
   "source": [
    "import requests\n",
    "\n",
    "data = {\n",
    "  'title': 'Updated Title'\n",
    "}\n",
    "\n",
    "response = requests.patch('https://jsonplaceholder.typicode.com/posts/1', json=data)\n",
    "\n",
    "print(response.status_code)\n",
    "print(response.json())"
   ]
  },
  {
   "cell_type": "markdown",
   "id": "a2270086",
   "metadata": {},
   "source": [
    "DELETE-запросы"
   ]
  },
  {
   "cell_type": "markdown",
   "id": "42ae4e80",
   "metadata": {},
   "source": [
    "DELETE используется для удаления ресурса на сервере. Этот метод может быть использован, чтобы удалить данные по определённому URL.\n",
    "\n",
    "Пример отправки DELETE-запроса:"
   ]
  },
  {
   "cell_type": "code",
   "execution_count": null,
   "id": "eec7408c",
   "metadata": {},
   "outputs": [],
   "source": [
    "import requests\n",
    "\n",
    "response = requests.delete('https://jsonplaceholder.typicode.com/posts/1')\n",
    "\n",
    "print(response.status_code) # Ожидаемый код состояния: 200 (ОК), если удаление прошло успешно"
   ]
  },
  {
   "cell_type": "markdown",
   "id": "6de8f586",
   "metadata": {},
   "source": [
    "Работа с ответами в библиотеке requests в Python"
   ]
  },
  {
   "cell_type": "markdown",
   "id": "56455227",
   "metadata": {},
   "source": [
    "Работа с ответами является важной частью взаимодействия с веб-сервисами, и библиотека requests предоставляет удобные средства для обработки ответов от серверов. В этой статье мы рассмотрим, как обрабатывать ответы, проверять успешность запросов и обрабатывать возможные ошибки."
   ]
  },
  {
   "cell_type": "markdown",
   "id": "b28c0018",
   "metadata": {},
   "source": [
    "1. Обработка ответов"
   ]
  },
  {
   "cell_type": "markdown",
   "id": "f6afb10f",
   "metadata": {},
   "source": [
    "После отправки HTTP-запроса с помощью библиотеки requests, сервер отправляет ответ, который доступен через объект Response. Этот объект содержит информацию о статусе запроса, теле ответа и другие полезные данные.\n",
    "\n",
    "Пример отправки запроса и получения ответа:"
   ]
  },
  {
   "cell_type": "code",
   "execution_count": null,
   "id": "fd934c29",
   "metadata": {},
   "outputs": [],
   "source": [
    "import requests\n",
    "\n",
    "response = requests.get('https://jsonplaceholder.typicode.com/posts')\n",
    "\n",
    "# Получение кода состояния ответа\n",
    "print(\"Status Code:\", response.status_code)\n",
    "\n",
    "# Получение текста ответа\n",
    "print(\"Response Text:\", response.text)\n",
    "\n",
    "# Получение данных в формате JSON (если они есть)\n",
    "print(\"Response JSON:\", response.json())"
   ]
  },
  {
   "cell_type": "markdown",
   "id": "67983ca8",
   "metadata": {},
   "source": [
    "Что можно извлечь из объекта response?\n",
    "\n",
    "status_code: Код состояния HTTP-ответа, например, 200 для успешного запроса.\n",
    "text: Тело ответа в виде строки (может быть HTML, JSON и т.д.).\n",
    "json(): Преобразует тело ответа в формат JSON (если это возможно).\n",
    "headers: Заголовки ответа.\n",
    "cookies: Куки, если они присутствуют в ответе.\n",
    "url: URL-адрес, по которому был отправлен запрос.\n",
    "Пример вывода:"
   ]
  },
  {
   "cell_type": "code",
   "execution_count": null,
   "id": "6cbe08c1",
   "metadata": {},
   "outputs": [],
   "source": [
    "Status Code: 200\n",
    "Response Text: [{\"userId\": 1, \"id\": 1, \"title\": \"Post 1\", ... }]\n",
    "Response JSON: [{\"userId\": 1, \"id\": 1, \"title\": \"Post 1\", ... }]\n"
   ]
  },
  {
   "cell_type": "markdown",
   "id": "f3995c55",
   "metadata": {},
   "source": [
    "2. Проверка успешности запроса"
   ]
  },
  {
   "cell_type": "markdown",
   "id": "686f2d07",
   "metadata": {},
   "source": [
    "Для проверки, был ли запрос успешным, можно использовать код состояния ответа, который возвращается сервером. Обычно, если код состояния начинается с 2xx, запрос прошел успешно.\n",
    "\n",
    "200 OK — успешный запрос.\n",
    "201 Created — ресурс был успешно создан.\n",
    "400 Bad Request — ошибка запроса на сервере.\n",
    "404 Not Found — ресурс не найден.\n",
    "В библиотеке requests есть несколько удобных методов, чтобы проверить успешность запроса:\n",
    "\n",
    "Проверка через status_code:"
   ]
  },
  {
   "cell_type": "code",
   "execution_count": null,
   "id": "cfa17d72",
   "metadata": {},
   "outputs": [],
   "source": [
    "import requests\n",
    "\n",
    "response = requests.get('https://jsonplaceholder.typicode.com/posts')\n",
    "\n",
    "if response.status_code == 200:\n",
    "  print (\"Request was successful!\")\n",
    "else:\n",
    "  print (f\"Request failed with status code {response. status_code}\")"
   ]
  },
  {
   "cell_type": "markdown",
   "id": "d610d466",
   "metadata": {},
   "source": [
    "Использование response.ok:"
   ]
  },
  {
   "cell_type": "markdown",
   "id": "f0a50ee5",
   "metadata": {},
   "source": [
    "Библиотека requests предоставляет атрибут ok, который возвращает True, если код состояния ответа указывает на успешный запрос (коды от 200 до 299):"
   ]
  },
  {
   "cell_type": "code",
   "execution_count": null,
   "id": "bf018ef3",
   "metadata": {},
   "outputs": [],
   "source": [
    "import requests\n",
    "\n",
    "response = requests.get('https://jsonplaceholder.typicode.com/posts')\n",
    "\n",
    "if response.ok:\n",
    "  print (\"Request was successful!\")\n",
    "else:\n",
    "  print (f\"Request failed with status code {response. status_code}\")"
   ]
  },
  {
   "cell_type": "markdown",
   "id": "e5a34051",
   "metadata": {},
   "source": [
    "3. Обработка ошибок"
   ]
  },
  {
   "cell_type": "markdown",
   "id": "f56156db",
   "metadata": {},
   "source": [
    "Когда запрос не может быть выполнен (например, сервер не доступен), будет выброшено исключение. Для обработки этих исключений можно использовать блоки try/except.\n",
    "\n",
    "Пример обработки ошибок:"
   ]
  },
  {
   "cell_type": "code",
   "execution_count": null,
   "id": "45d17603",
   "metadata": {},
   "outputs": [],
   "source": [
    "import requests\n",
    "from requests.exceptions import HTTPError, Timeout, RequestException\n",
    "\n",
    "try:\n",
    "\n",
    "  response.raise_for_status() # Проверка на успешный код ответа (напри\n",
    "except HTTPError as http_err:\n",
    "  print (f\"HTTP error occurred: {http_err}\")\n",
    "except Timeout:\n",
    "  print (\"The request timed out\")\n",
    "except RequestException as err:\n",
    "  print (f\"Other error occurred: {err}\")\n",
    "else:\n",
    "  print (\"Request was successful!\")\n",
    "  print(response.json() )\n"
   ]
  },
  {
   "cell_type": "markdown",
   "id": "8b3a0071",
   "metadata": {},
   "source": [
    "HTTPError: Ошибка, связанная с кодом ответа сервера (например, 404 или 500).\n",
    "Timeout: Ошибка, если запрос занял слишком много времени.\n",
    "RequestException: Общая ошибка, которая возникает при проблемах с сетевым соединением, например, если сервер недоступен."
   ]
  },
  {
   "cell_type": "code",
   "execution_count": null,
   "id": "6471acc0",
   "metadata": {},
   "outputs": [],
   "source": [
    "4. Проверка наличия данных в ответе"
   ]
  },
  {
   "cell_type": "markdown",
   "id": "bbdd4531",
   "metadata": {},
   "source": [
    "Иногда вам нужно убедиться, что сервер вернул данные в ответе, и корректно обработать отсутствие этих данных. Например, если сервер возвращает пустой список или ошибку, вы можете обработать это соответствующим образом."
   ]
  },
  {
   "cell_type": "code",
   "execution_count": null,
   "id": "52edf607",
   "metadata": {},
   "outputs": [],
   "source": [
    "import requests\n",
    "\n",
    "response = requests.get('https://jsonplaceholder.typicode.com/posts')\n",
    "\n",
    "if response.ok:\n",
    "  data = response. json()\n",
    "  if not data:\n",
    "    print(\"No data found\")\n",
    "  else:\n",
    "    print (\"Data received:\", data)\n",
    "else:\n",
    "  print(f\"Request failed with status code {response. status_code}\" )\n"
   ]
  },
  {
   "cell_type": "markdown",
   "id": "d7020cb4",
   "metadata": {},
   "source": [
    "Заголовки и куки"
   ]
  },
  {
   "cell_type": "markdown",
   "id": "d27ba51b",
   "metadata": {},
   "source": [
    "Заголовки и куки — это важные части HTTP-запросов, которые часто используются для передачи метаинформации, таких как тип содержимого, информация о браузере, авторизация и сессии.\n",
    "\n",
    "Работа с заголовками\n",
    "\n",
    "Заголовки позволяют клиенту сообщать серверу важную информацию. Например, мы можем указать, что отправляем JSON, или передать информацию о пользовательском агенте.\n",
    "\n",
    "Пример передачи заголовков в запросе:"
   ]
  },
  {
   "cell_type": "code",
   "execution_count": null,
   "id": "31c41043",
   "metadata": {},
   "outputs": [],
   "source": [
    "import requests\n",
    "\n",
    "# Определение заголовков\n",
    "headers = {\n",
    "  'User-Agent': 'my-app/1.0',\n",
    "  'Accept': 'application/json',\n",
    "  'Authorization': 'Bearer your_token'\n",
    "}\n",
    "\n",
    "response = requests.get('https://jsonplaceholder.typicode.com/posts', headers=headers)\n",
    "\n",
    "print(response.status_code)\n",
    "print(response.text)"
   ]
  },
  {
   "cell_type": "markdown",
   "id": "aad84f8f",
   "metadata": {},
   "source": [
    "В этом примере мы передаем заголовки, которые указывают серверу, что клиент — это приложение с именем my-app/1.0, и что мы ожидаем ответ в формате JSON. Также передаем токен авторизации через заголовок Authorization.\n",
    "\n",
    "Работа с куками\n",
    "\n",
    "Куки используются для хранения информации о состоянии между запросами, например, для сохранения сессии пользователя.\n",
    "\n",
    "Пример работы с куками:"
   ]
  },
  {
   "cell_type": "code",
   "execution_count": null,
   "id": "757d1102",
   "metadata": {},
   "outputs": [],
   "source": [
    "import requests\n",
    "\n",
    "# Создание куки\n",
    "cookies = {'session_id': '123456789' }\n",
    "\n",
    "# Отправка запроса с куками\n",
    "response = requests.get ('https://jsonplaceholder.typicode.com/posts', cookies=cookies)\n",
    "\n",
    "print(response.status_code)\n",
    "print (response.cookies)"
   ]
  },
  {
   "cell_type": "markdown",
   "id": "176a7866",
   "metadata": {},
   "source": [
    "В этом примере мы отправляем запрос с кукой session_id, которая может быть использована сервером для отслеживания состояния сессии пользователя."
   ]
  },
  {
   "cell_type": "markdown",
   "id": "c31b9600",
   "metadata": {},
   "source": [
    "2. Передача параметров и заголовков в запросах"
   ]
  },
  {
   "cell_type": "markdown",
   "id": "be770072",
   "metadata": {},
   "source": [
    "Параметры часто используются в URL-адресах для уточнения запроса (например, фильтры или лимиты). Библиотека requests позволяет легко передавать параметры и заголовки в запросах.\n",
    "\n",
    "Передача параметров в запросах\n",
    "Для передачи параметров в запросах GET, POST и других, библиотека requests позволяет использовать параметр params. Этот параметр принимает словарь, который автоматически преобразуется в строку запроса.\n",
    "\n",
    "Пример:"
   ]
  },
  {
   "cell_type": "code",
   "execution_count": null,
   "id": "c3692035",
   "metadata": {},
   "outputs": [],
   "source": [
    "import requests\n",
    "\n",
    "# Параметры запроса\n",
    "params = {\n",
    "'userId': 1,\n",
    "'limit': 5\n",
    "\n",
    "}\n",
    "\n",
    "response = requests.get ('https://jsonplaceholder.typicode.com/posts' , params=params)\n",
    "\n",
    "print(response.status_code)\n",
    "print (response. json ( ) )"
   ]
  },
  {
   "cell_type": "markdown",
   "id": "bc97a48e",
   "metadata": {},
   "source": [
    "Здесь мы передаем параметры userId и limit, которые будут автоматически добавлены к URL как часть строки запроса: ?userId=1&limit=5."
   ]
  },
  {
   "cell_type": "markdown",
   "id": "d015c476",
   "metadata": {},
   "source": [
    "Передача параметров в запросе POST\n",
    "В случае с методом POST, параметры передаются в теле запроса:\n"
   ]
  },
  {
   "cell_type": "code",
   "execution_count": null,
   "id": "17657561",
   "metadata": {},
   "outputs": [],
   "source": [
    "import requests\n",
    "\n",
    "# Данные для отправки\n",
    "data = {\n",
    "'title': 'New Post',\n",
    "'body': 'This is the body of the post',\n",
    "'userId': 1\n",
    "\n",
    "}\n",
    "\n",
    "response = requests.post ('https://jsonplaceholder.typicode.com/posts', data=data)\n",
    "\n",
    "print(response.status_code)\n",
    "print (response. json () )"
   ]
  },
  {
   "cell_type": "markdown",
   "id": "5a7c4cf3",
   "metadata": {},
   "source": [
    "Здесь мы отправляем данные в теле запроса, и сервер обрабатывает их как форму."
   ]
  },
  {
   "cell_type": "markdown",
   "id": "21d02d0f",
   "metadata": {},
   "source": [
    "3. Сессии и авторизация\n",
    "Сессии и авторизация необходимы для работы с веб-сервисами, которые требуют подтверждения личности пользователя или сохранения состояния между запросами.\n",
    "\n",
    "Использование сессий\n",
    "Сессия позволяет сохранять параметры, такие как куки, авторизационные данные и заголовки, между несколькими запросами. Это полезно, когда нужно работать с одним и тем же сервером в рамках одного сеанса.\n",
    "\n",
    "Пример:"
   ]
  },
  {
   "cell_type": "code",
   "execution_count": null,
   "id": "33cdfeb7",
   "metadata": {},
   "outputs": [],
   "source": [
    "import requests\n",
    "\n",
    "# Создание сессии\n",
    "session = requests. Session ( )\n",
    "\n",
    "# Добавление заголовков в сессию\n",
    "session.headers. update({'User-Agent': 'my-app/1.0'})\n",
    "\n",
    "# Отправка первого запроса\n",
    "response = session.get ('https: //jsonplaceholder.typicode. com/posts' )\n",
    "print(response.status_code)\n",
    "\n",
    "# Отправка второго запроса с той же сессией\n",
    "response = session. get ('https: //jsonplaceholder. typicode. com/posts/1'\n",
    "print (response.status_code)"
   ]
  },
  {
   "cell_type": "markdown",
   "id": "bb76d63d",
   "metadata": {},
   "source": [
    "В этом примере мы создаем сессию, добавляем заголовки и отправляем несколько запросов в рамках одной сессии. Это позволяет эффективно управлять состоянием.\n",
    "\n",
    "Авторизация\n",
    "Авторизация необходима для получения доступа к защищенным ресурсам. Библиотека requests позволяет использовать базовую авторизацию и токены.\n",
    "\n",
    "Базовая авторизация\n"
   ]
  },
  {
   "cell_type": "code",
   "execution_count": null,
   "id": "d007a4a5",
   "metadata": {},
   "outputs": [],
   "source": [
    "import requests\n",
    "from requests.auth import HTTPBasicAuth\n",
    "\n",
    "response = requests.get('https: //jsonplaceholder.typicode.com/posts', auth=HTTPBasicAuth('username', 'password' ) )\n",
    "\n",
    "print(response.status_code)\n",
    "print (response. text)"
   ]
  },
  {
   "cell_type": "markdown",
   "id": "2a13e51d",
   "metadata": {},
   "source": [
    "Авторизация с использованием токена"
   ]
  },
  {
   "cell_type": "code",
   "execution_count": null,
   "id": "dde17e9a",
   "metadata": {},
   "outputs": [],
   "source": [
    "import requests\n",
    "\n",
    "headers = {\n",
    "'Authorization': 'Bearer your_token'\n",
    "\n",
    "}\n",
    "\n",
    "response = requests.get ('https://jsonplaceholder.typicode.com/posts' , headers=headers)\n",
    "\n",
    "print(response.status_code)\n",
    "print (response. text)"
   ]
  },
  {
   "cell_type": "markdown",
   "id": "5cc85fe2",
   "metadata": {},
   "source": [
    "В этом примере используется авторизация с помощью токена Bearer, который добавляется в заголовок запроса."
   ]
  }
 ],
 "metadata": {
  "kernelspec": {
   "display_name": ".venv (3.13.3)",
   "language": "python",
   "name": "python3"
  },
  "language_info": {
   "name": "python",
   "version": "3.13.3"
  }
 },
 "nbformat": 4,
 "nbformat_minor": 5
}
